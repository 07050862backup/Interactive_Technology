{
 "cells": [
  {
   "cell_type": "code",
   "execution_count": 1,
   "metadata": {},
   "outputs": [
    {
     "name": "stdout",
     "output_type": "stream",
     "text": [
      "5 3 3 4 2 2 1 2 3 4 5 5 5 5 3 3 4 2 2 1 3 5 5 3 2 2 2 2 2 3 4 3 3 3 3 3 4 5 5 3 3 4 2 2 1 3 5 5 1\n",
      "['5', '3', '3', '4', '2', '2', '1', '2', '3', '4', '5', '5', '5', '5', '3', '3', '4', '2', '2', '1', '3', '5', '5', '3', '2', '2', '2', '2', '2', '3', '4', '3', '3', '3', '3', '3', '4', '5', '5', '3', '3', '4', '2', '2', '1', '3', '5', '5', '1']\n",
      "geefddcdefggggeefddceggedddddefeeeeefggeefddceggc"
     ]
    }
   ],
   "source": [
    "str1 = '5 3 3 4 2 2 1 2 3 4 5 5 5 5 3 3 4 2 2 1 3 5 5 3 2 2 2 2 2 3 4 3 3 3 3 3 4 5 5 3 3 4 2 2 1 3 5 5 1'\n",
    "print(str1)\n",
    "str2 = str1.split(' ')\n",
    "print(str2)\n",
    "\n",
    "\n",
    "for i in range(len(str2)):\n",
    "    if str2[i]=='1':\n",
    "        str2[i]='c'\n",
    "    elif str2[i]=='2':\n",
    "        str2[i]='d'\n",
    "    elif str2[i]=='3':\n",
    "        str2[i]='e'\n",
    "    elif str2[i]=='4':\n",
    "        str2[i]='f'\n",
    "    elif str2[i]=='5':\n",
    "        str2[i]='g'\n",
    "    elif str2[i]=='6':\n",
    "        str2[i]='a'\n",
    "    elif str2[i]=='7':\n",
    "        str2[i]='b'\n",
    "for i in range(len(str2)):\n",
    "    print(str2[i],end = '')"
   ]
  }
 ],
 "metadata": {
  "colab": {
   "collapsed_sections": [],
   "name": "linear_regression.ipynb",
   "provenance": []
  },
  "kernelspec": {
   "display_name": "Python 3",
   "language": "python",
   "name": "python3"
  },
  "language_info": {
   "codemirror_mode": {
    "name": "ipython",
    "version": 3
   },
   "file_extension": ".py",
   "mimetype": "text/x-python",
   "name": "python",
   "nbconvert_exporter": "python",
   "pygments_lexer": "ipython3",
   "version": "3.8.3"
  }
 },
 "nbformat": 4,
 "nbformat_minor": 1
}
